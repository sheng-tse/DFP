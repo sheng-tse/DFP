{
 "cells": [
  {
   "cell_type": "markdown",
   "id": "83d6cb0f",
   "metadata": {},
   "source": [
    "# # Scraping Functions\n",
    "# Core functions for extracting job data from Indeed"
   ]
  },
  {
   "cell_type": "markdown",
   "id": "b7f35a9e",
   "metadata": {},
   "source": [
    "## Load Dependencies"
   ]
  },
  {
   "cell_type": "code",
   "execution_count": 9,
   "id": "f516dfe5",
   "metadata": {},
   "outputs": [
    {
     "name": "stdout",
     "output_type": "stream",
     "text": [
      "✓ Configuration loaded successfully\n",
      "  - Default threads: 3\n",
      "  - Max threads: 15\n",
      "  - WebDriver timeout: 10s\n",
      "✓ Configuration loaded successfully\n",
      "  - Default threads: 3\n",
      "  - Max threads: 15\n",
      "  - WebDriver timeout: 10s\n",
      "✓ Test URL: https://www.indeed.com/jobs?q=data+analyst&l=New+York+NY\n",
      "✓ Utility functions loaded successfully\n"
     ]
    }
   ],
   "source": [
    "%run config.ipynb\n",
    "%run utils.ipynb"
   ]
  },
  {
   "cell_type": "markdown",
   "id": "5fbc2f67",
   "metadata": {},
   "source": [
    "## Extract Basic Job Information"
   ]
  },
  {
   "cell_type": "code",
   "execution_count": 10,
   "id": "1168000b",
   "metadata": {},
   "outputs": [],
   "source": [
    "def get_job_basic_info(post):\n",
    "    \"\"\"\n",
    "    Extract basic information from a job posting card\n",
    "    \n",
    "    Args:\n",
    "        post: Selenium WebElement of job card\n",
    "    \n",
    "    Returns:\n",
    "        Tuple: (title, company, location, salary, job_url) or None if error\n",
    "    \"\"\"\n",
    "    try:\n",
    "        title = post.find_element(By.CSS_SELECTOR, \"h2.jobTitle\").text\n",
    "        company = post.find_element(By.CSS_SELECTOR, \"span[data-testid='company-name']\").text\n",
    "        location = post.find_element(By.CSS_SELECTOR, \"div[data-testid='text-location']\").text\n",
    "        job_url = post.find_element(By.CSS_SELECTOR, \"h2.jobTitle a\").get_attribute(\"href\")\n",
    "        \n",
    "        return (title, company, location, job_url)\n",
    "    except Exception as e:\n",
    "        print(f\"Error extracting basic info: {e}\")\n",
    "        return None"
   ]
  },
  {
   "cell_type": "markdown",
   "id": "d1837c80",
   "metadata": {},
   "source": [
    "## Extract Full Job Description"
   ]
  },
  {
   "cell_type": "code",
   "execution_count": 11,
   "id": "3f06b739",
   "metadata": {},
   "outputs": [],
   "source": [
    "def get_job_description(job_url):\n",
    "    \"\"\"\n",
    "    Get full job description and salary by opening the job URL\n",
    "    Uses a fresh browser instance for anti-detection\n",
    "    \n",
    "    Args:\n",
    "        job_url: URL of the job posting\n",
    "    \n",
    "    Returns:\n",
    "        Tuple: (salary, job_description) where salary may be empty string\n",
    "    \"\"\"\n",
    "    driver = create_driver()\n",
    "    salary = \"\"\n",
    "    job_description = \"None\"\n",
    "    \n",
    "    try:\n",
    "        driver.get(job_url)\n",
    "        time.sleep(random.randint(JOB_LOAD_MIN, JOB_LOAD_MAX))\n",
    "        \n",
    "        WebDriverWait(driver, WEBDRIVER_TIMEOUT).until(\n",
    "            EC.presence_of_element_located((By.ID, \"jobDescriptionText\"))\n",
    "        )\n",
    "        job_description = driver.find_element(By.ID, \"jobDescriptionText\").text\n",
    "        \n",
    "        # NEW: Try to get salary from the detail page\n",
    "        try:\n",
    "            # Method 1: Try the salaryInfoAndJobType div with specific class\n",
    "            salary_element = driver.find_element(By.CSS_SELECTOR, \"span.css-1oc7tea\")\n",
    "            salary = salary_element.text.strip()\n",
    "        except NoSuchElementException:\n",
    "            try:\n",
    "                # Method 2: Try alternative salary container\n",
    "                salary_element = driver.find_element(By.ID, \"salaryInfoAndJobType\")\n",
    "                salary_span = salary_element.find_element(By.CSS_SELECTOR, \"span.css-1oc7tea\")\n",
    "                salary = salary_span.text.strip()\n",
    "            except NoSuchElementException:\n",
    "                try:\n",
    "                    # Method 3: Try broader search in salary section\n",
    "                    salary_container = driver.find_element(By.CSS_SELECTOR, \"div#salaryInfoAndJobType\")\n",
    "                    salary_text = salary_container.text.split('-')[0].strip()\n",
    "                    if salary_text:\n",
    "                        salary = salary_container.text.split('\\n')[0].strip()\n",
    "                except NoSuchElementException:\n",
    "                    salary = \"\"\n",
    "        \n",
    "    except (NoSuchElementException, TimeoutException):\n",
    "        job_description = \"None\"\n",
    "        salary = \"\"\n",
    "    except Exception as e:\n",
    "        safe_print(f\"Error getting job details: {e}\")\n",
    "        job_description = \"None\"\n",
    "        salary = \"\"\n",
    "    finally:\n",
    "        driver.quit()\n",
    "    \n",
    "    return (salary, job_description)"
   ]
  },
  {
   "cell_type": "markdown",
   "id": "f1c73dcd",
   "metadata": {},
   "source": [
    "## Process Job with Threading"
   ]
  },
  {
   "cell_type": "code",
   "execution_count": 13,
   "id": "40736f0a",
   "metadata": {},
   "outputs": [],
   "source": [
    "def process_job_with_description(job_data, index, total):\n",
    "    title, company, location, job_url = job_data\n",
    "    \"\"\"\n",
    "    Process a single job: fetch description and create record\n",
    "    Designed for parallel execution with ThreadPoolExecutor\n",
    "    \n",
    "    Args:\n",
    "        job_data: Tuple of basic job info\n",
    "        index: Job index (for progress tracking)\n",
    "        total: Total number of jobs\n",
    "    \n",
    "    Returns:\n",
    "        Complete job record tuple\n",
    "    \"\"\"    \n",
    "    safe_print(f\"[Thread] Processing job {index + 1}/{total}: {title} at {company}\")\n",
    "    time.sleep(random.uniform(THREAD_DELAY_MIN, THREAD_DELAY_MAX))\n",
    "    \n",
    "    salary, job_description = get_job_description(job_url)\n",
    "    \n",
    "    record = (title, company, location, salary, job_url, job_description)\n",
    "    safe_print(f\"[Thread] Completed job {index + 1}/{total}: {title} | Salary: {salary if salary else 'Not listed'}\")\n",
    "    return record"
   ]
  },
  {
   "cell_type": "code",
   "execution_count": 14,
   "id": "88aa9ca8",
   "metadata": {},
   "outputs": [
    {
     "name": "stdout",
     "output_type": "stream",
     "text": [
      "✓ Scraping functions loaded successfully\n",
      "  - get_job_basic_info()\n",
      "  - get_job_description()\n",
      "  - process_job_with_description()\n"
     ]
    }
   ],
   "source": [
    "print(\"✓ Scraping functions loaded successfully\")\n",
    "print(\"  - get_job_basic_info()\")\n",
    "print(\"  - get_job_description()\")\n",
    "print(\"  - process_job_with_description()\")"
   ]
  }
 ],
 "metadata": {
  "kernelspec": {
   "display_name": "env",
   "language": "python",
   "name": "python3"
  },
  "language_info": {
   "codemirror_mode": {
    "name": "ipython",
    "version": 3
   },
   "file_extension": ".py",
   "mimetype": "text/x-python",
   "name": "python",
   "nbconvert_exporter": "python",
   "pygments_lexer": "ipython3",
   "version": "3.13.7"
  }
 },
 "nbformat": 4,
 "nbformat_minor": 5
}
