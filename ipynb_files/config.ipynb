{
 "cells": [
  {
   "cell_type": "markdown",
   "id": "60c9601f",
   "metadata": {},
   "source": [
    "# # Configuration & Setup\n",
    "# This notebook contains all imports, configuration variables, and setup code"
   ]
  },
  {
   "cell_type": "markdown",
   "id": "0ea7aece",
   "metadata": {},
   "source": [
    "## Library Imports"
   ]
  },
  {
   "cell_type": "code",
   "execution_count": 10,
   "id": "4647ff3a",
   "metadata": {},
   "outputs": [],
   "source": [
    "from selenium import webdriver\n",
    "from selenium.webdriver.common.by import By\n",
    "from selenium.webdriver.support.ui import WebDriverWait\n",
    "from selenium.webdriver.support import expected_conditions as EC\n",
    "from selenium.common.exceptions import NoSuchElementException, TimeoutException\n",
    "import time\n",
    "import random\n",
    "from concurrent.futures import ThreadPoolExecutor, as_completed\n",
    "from threading import Lock\n",
    "import csv\n",
    "import pandas as pd\n",
    "from datetime import datetime"
   ]
  },
  {
   "cell_type": "markdown",
   "id": "201b03bb",
   "metadata": {},
   "source": [
    "## Configuration Variables"
   ]
  },
  {
   "cell_type": "code",
   "execution_count": 11,
   "id": "0fe1da84",
   "metadata": {},
   "outputs": [],
   "source": [
    "# Timing configurations (in seconds)\n",
    "PAGE_LOAD_MIN = 3\n",
    "PAGE_LOAD_MAX = 5\n",
    "JOB_LOAD_MIN = 2\n",
    "JOB_LOAD_MAX = 4\n",
    "THREAD_DELAY_MIN = 0.5\n",
    "THREAD_DELAY_MAX = 1.5\n",
    "PAGE_SWITCH_MIN = 2\n",
    "PAGE_SWITCH_MAX = 4\n",
    "\n",
    "# WebDriver wait timeout\n",
    "WEBDRIVER_TIMEOUT = 60\n",
    "\n",
    "# Threading configuration\n",
    "DEFAULT_THREADS = 3\n",
    "MAX_THREADS = 15\n",
    "\n",
    "# Indeed pagination (jobs per page)\n",
    "JOBS_PER_PAGE = 15"
   ]
  },
  {
   "cell_type": "markdown",
   "id": "fd377394",
   "metadata": {},
   "source": [
    "## WebDriver Options"
   ]
  },
  {
   "cell_type": "code",
   "execution_count": 12,
   "id": "ac3da5ed",
   "metadata": {},
   "outputs": [],
   "source": [
    "def get_chrome_options():\n",
    "    \"\"\"Returns configured Chrome options for anti-detection\"\"\"\n",
    "    options = webdriver.ChromeOptions()\n",
    "    \n",
    "    # Window settings\n",
    "    options.add_argument(\"--start-maximized\")\n",
    "    \n",
    "    # Anti-detection features\n",
    "    options.add_argument(\"--disable-blink-features=AutomationControlled\")\n",
    "    options.add_experimental_option(\"excludeSwitches\", [\"enable-automation\"])\n",
    "    options.add_experimental_option('useAutomationExtension', False)\n",
    "    \n",
    "    # Headless mode (comment out to see browser)\n",
    "    # options.add_argument(\"--headless\")\n",
    "    \n",
    "    return options\n",
    "\n",
    "# User agent string\n",
    "USER_AGENT = \"Mozilla/5.0 (Macintosh; Intel Mac OS X 10_15_7) AppleWebKit/537.36 (KHTML, like Gecko) Chrome/140.0.0.0 Safari/537.36\""
   ]
  },
  {
   "cell_type": "markdown",
   "id": "ab6c0235",
   "metadata": {},
   "source": [
    "# Create lock for thread-safe printing"
   ]
  },
  {
   "cell_type": "code",
   "execution_count": 13,
   "id": "3c1b0818",
   "metadata": {},
   "outputs": [
    {
     "name": "stdout",
     "output_type": "stream",
     "text": [
      "✓ Configuration loaded successfully\n",
      "  - Default threads: 3\n",
      "  - Max threads: 15\n",
      "  - WebDriver timeout: 60s\n"
     ]
    }
   ],
   "source": [
    "print_lock = Lock()\n",
    "\n",
    "print(\"✓ Configuration loaded successfully\")\n",
    "print(f\"  - Default threads: {DEFAULT_THREADS}\")\n",
    "print(f\"  - Max threads: {MAX_THREADS}\")\n",
    "print(f\"  - WebDriver timeout: {WEBDRIVER_TIMEOUT}s\")"
   ]
  }
 ],
 "metadata": {
  "kernelspec": {
   "display_name": "env",
   "language": "python",
   "name": "python3"
  },
  "language_info": {
   "codemirror_mode": {
    "name": "ipython",
    "version": 3
   },
   "file_extension": ".py",
   "mimetype": "text/x-python",
   "name": "python",
   "nbconvert_exporter": "python",
   "pygments_lexer": "ipython3",
   "version": "3.13.7"
  }
 },
 "nbformat": 4,
 "nbformat_minor": 5
}
