{
 "cells": [
  {
   "cell_type": "markdown",
   "id": "3a0d4975",
   "metadata": {},
   "source": [
    "# # Utility Functions\n",
    "# Helper functions for URL generation, driver creation, and thread-safe operations"
   ]
  },
  {
   "cell_type": "markdown",
   "id": "3b5aae90",
   "metadata": {},
   "source": [
    "## Load Configuration\n",
    "# Run the config notebook first to load all settings"
   ]
  },
  {
   "cell_type": "code",
   "execution_count": 3,
   "id": "83e45ea1",
   "metadata": {},
   "outputs": [
    {
     "name": "stdout",
     "output_type": "stream",
     "text": [
      "✓ Configuration loaded successfully\n",
      "  - Default threads: 3\n",
      "  - Max threads: 15\n",
      "  - WebDriver timeout: 10s\n"
     ]
    }
   ],
   "source": [
    "%run config.ipynb"
   ]
  },
  {
   "cell_type": "markdown",
   "id": "b7b9a37a",
   "metadata": {},
   "source": [
    "## URL Generation\n"
   ]
  },
  {
   "cell_type": "code",
   "execution_count": 4,
   "id": "a5844a91",
   "metadata": {},
   "outputs": [],
   "source": [
    "def get_url(job_title, city, state, page=0):\n",
    "    \"\"\"\n",
    "    Generate Indeed search URL with optional page number\n",
    "    \n",
    "    Args:\n",
    "        job_title: Job title to search for\n",
    "        city: City name\n",
    "        state: State name\n",
    "        page: Page number (0 for first page, 1 for second, etc.)\n",
    "    \n",
    "    Returns:\n",
    "        Formatted Indeed search URL\n",
    "    \"\"\"\n",
    "    template = \"https://www.indeed.com/jobs?q={}&l={}\"\n",
    "    if page > 0:\n",
    "        template += \"&start={}\".format(page * JOBS_PER_PAGE)\n",
    "    \n",
    "    # Format inputs\n",
    "    job_title = job_title.strip().replace(\" \", \"+\")\n",
    "    city = city.strip().replace(\" \", \"+\")\n",
    "    state = state.strip().replace(\" \", \"+\")\n",
    "    city_state = city + \"+\" + state\n",
    "    \n",
    "    url = template.format(job_title, city_state)\n",
    "    return url"
   ]
  },
  {
   "cell_type": "markdown",
   "id": "38f8e71b",
   "metadata": {},
   "source": [
    "## WebDriver Creation"
   ]
  },
  {
   "cell_type": "code",
   "execution_count": 5,
   "id": "f6449765",
   "metadata": {},
   "outputs": [],
   "source": [
    "def create_driver():\n",
    "    \"\"\"\n",
    "    Create and configure a new Chrome WebDriver instance\n",
    "    with anti-detection features\n",
    "    \n",
    "    Returns:\n",
    "        Configured Chrome WebDriver\n",
    "    \"\"\"\n",
    "    options = get_chrome_options()\n",
    "    driver = webdriver.Chrome(options=options)\n",
    "    \n",
    "    # Set custom user agent\n",
    "    driver.execute_cdp_cmd('Network.setUserAgentOverride', {\n",
    "        \"userAgent\": USER_AGENT\n",
    "    })\n",
    "    \n",
    "    return driver\n"
   ]
  },
  {
   "cell_type": "markdown",
   "id": "2f5c9a4f",
   "metadata": {},
   "source": [
    "## Thread-Safe Printing"
   ]
  },
  {
   "cell_type": "code",
   "execution_count": 6,
   "id": "fc834d41",
   "metadata": {},
   "outputs": [],
   "source": [
    "def safe_print(message):\n",
    "    \"\"\"\n",
    "    Thread-safe print function\n",
    "    Ensures only one thread prints at a time\n",
    "    \n",
    "    Args:\n",
    "        message: String to print\n",
    "    \"\"\"\n",
    "    with print_lock:\n",
    "        print(message)"
   ]
  },
  {
   "cell_type": "markdown",
   "id": "d56f4c9f",
   "metadata": {},
   "source": [
    "## Test Functions"
   ]
  },
  {
   "cell_type": "code",
   "execution_count": 7,
   "id": "6387c8c6",
   "metadata": {},
   "outputs": [
    {
     "name": "stdout",
     "output_type": "stream",
     "text": [
      "✓ Test URL: https://www.indeed.com/jobs?q=data+analyst&l=New+York+NY\n",
      "✓ Utility functions loaded successfully\n"
     ]
    }
   ],
   "source": [
    "# Test URL generation\n",
    "test_url = get_url(\"data analyst\", \"New York\", \"NY\", 0)\n",
    "print(f\"✓ Test URL: {test_url}\")\n",
    "\n",
    "# Test driver creation (quick test)\n",
    "print(\"✓ Utility functions loaded successfully\")"
   ]
  }
 ],
 "metadata": {
  "kernelspec": {
   "display_name": "env",
   "language": "python",
   "name": "python3"
  },
  "language_info": {
   "codemirror_mode": {
    "name": "ipython",
    "version": 3
   },
   "file_extension": ".py",
   "mimetype": "text/x-python",
   "name": "python",
   "nbconvert_exporter": "python",
   "pygments_lexer": "ipython3",
   "version": "3.13.7"
  }
 },
 "nbformat": 4,
 "nbformat_minor": 5
}
